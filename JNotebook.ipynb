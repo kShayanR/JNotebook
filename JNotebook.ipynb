{
 "cells": [
  {
   "cell_type": "markdown",
   "id": "0622a6ba-3bd3-4ca1-be77-04e282a50d25",
   "metadata": {},
   "source": [
    "# My Jupyter Notebook on IBM Watson Studio"
   ]
  },
  {
   "cell_type": "markdown",
   "id": "d4883f53-42ed-4b3c-8950-14b078a3ce30",
   "metadata": {},
   "source": [
    "**Dishang**"
   ]
  },
  {
   "cell_type": "markdown",
   "id": "b5b2630a-b866-4779-9ef0-01ae0cc8b63a",
   "metadata": {},
   "source": [
    "Student"
   ]
  },
  {
   "cell_type": "markdown",
   "id": "8dc0614c-410f-4ed9-afbe-5fb8ff885756",
   "metadata": {},
   "source": [
    "*I am interested in data science because I love problem solving and statistical analysis of data*"
   ]
  },
  {
   "cell_type": "markdown",
   "id": "2bea9d28-48b8-46c6-910a-698d513e5992",
   "metadata": {},
   "source": [
    "### My code will multiply 2 with 2"
   ]
  },
  {
   "cell_type": "code",
   "execution_count": 2,
   "id": "3fe7ca86-f98b-44f4-a8f2-86ec8301e728",
   "metadata": {},
   "outputs": [
    {
     "data": {
      "text/plain": [
       "4"
      ]
     },
     "execution_count": 2,
     "metadata": {},
     "output_type": "execute_result"
    }
   ],
   "source": [
    "2*2"
   ]
  },
  {
   "cell_type": "markdown",
   "id": "621bf317-060c-4ac1-a066-39dd60726212",
   "metadata": {},
   "source": [
    "1. This is learning markdown in jupyternotebook.\n",
    "2. Thank You\n",
    "- This is learning markdown in jupyternotebook.\n",
    "- Thank You\n",
    "\n",
    "~~Thank You~~"
   ]
  },
  {
   "cell_type": "code",
   "execution_count": null,
   "id": "972335cc-bfe0-4cfb-9d81-3eb4147512f4",
   "metadata": {},
   "outputs": [],
   "source": []
  }
 ],
 "metadata": {
  "kernelspec": {
   "display_name": "Python 3",
   "language": "python",
   "name": "python3"
  },
  "language_info": {
   "codemirror_mode": {
    "name": "ipython",
    "version": 3
   },
   "file_extension": ".py",
   "mimetype": "text/x-python",
   "name": "python",
   "nbconvert_exporter": "python",
   "pygments_lexer": "ipython3",
   "version": "3.8.8"
  }
 },
 "nbformat": 4,
 "nbformat_minor": 5
}
